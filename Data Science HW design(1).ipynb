{
 "cells": [
  {
   "cell_type": "markdown",
   "id": "8169268a",
   "metadata": {},
   "source": [
    "### DATA IMPORT "
   ]
  },
  {
   "cell_type": "markdown",
   "id": "2680583d",
   "metadata": {},
   "source": [
    "The dataset contains informations about 30 features to allow us to analyze and predict if the candidate is default or not. All the observations are continous. \n",
    "\n",
    "There are <b> 94000 </b> unique observations. \n",
    "\n",
    "The predictor for given data is given which allows us to use supervised models.\n",
    "\n",
    "<b> GOAL : </b>\n",
    "\n",
    "Correctly predict default candidates (1 means default, 0 means non-default) using val.csv file\n"
   ]
  },
  {
   "cell_type": "code",
   "execution_count": 1,
   "id": "603bafe5",
   "metadata": {},
   "outputs": [],
   "source": [
    "import pandas as pd\n",
    "df = pd.read_csv('Data Science HW design model.csv')"
   ]
  },
  {
   "cell_type": "code",
   "execution_count": 2,
   "id": "b00d85d3",
   "metadata": {},
   "outputs": [
    {
     "name": "stdout",
     "output_type": "stream",
     "text": [
      "<class 'pandas.core.frame.DataFrame'>\n",
      "RangeIndex: 94000 entries, 0 to 93999\n",
      "Data columns (total 31 columns):\n",
      " #   Column   Non-Null Count  Dtype  \n",
      "---  ------   --------------  -----  \n",
      " 0   A1       94000 non-null  float64\n",
      " 1   A2       94000 non-null  float64\n",
      " 2   A3       94000 non-null  float64\n",
      " 3   A4       94000 non-null  float64\n",
      " 4   A5       94000 non-null  float64\n",
      " 5   A6       94000 non-null  float64\n",
      " 6   A7       94000 non-null  float64\n",
      " 7   A8       94000 non-null  float64\n",
      " 8   A9       94000 non-null  float64\n",
      " 9   A10      94000 non-null  float64\n",
      " 10  A11      94000 non-null  float64\n",
      " 11  A12      94000 non-null  float64\n",
      " 12  A13      94000 non-null  float64\n",
      " 13  A14      94000 non-null  float64\n",
      " 14  A15      94000 non-null  float64\n",
      " 15  A16      94000 non-null  float64\n",
      " 16  A17      94000 non-null  float64\n",
      " 17  A18      94000 non-null  float64\n",
      " 18  A19      94000 non-null  float64\n",
      " 19  A20      94000 non-null  float64\n",
      " 20  A21      94000 non-null  int64  \n",
      " 21  A22      94000 non-null  float64\n",
      " 22  A23      94000 non-null  float64\n",
      " 23  A24      94000 non-null  float64\n",
      " 24  A25      94000 non-null  float64\n",
      " 25  A26      94000 non-null  float64\n",
      " 26  A27      94000 non-null  float64\n",
      " 27  A28      94000 non-null  float64\n",
      " 28  A29      94000 non-null  float64\n",
      " 29  A30      94000 non-null  float64\n",
      " 30  default  94000 non-null  int64  \n",
      "dtypes: float64(29), int64(2)\n",
      "memory usage: 22.2 MB\n"
     ]
    }
   ],
   "source": [
    "df.info()"
   ]
  },
  {
   "cell_type": "code",
   "execution_count": 3,
   "id": "547bcd29",
   "metadata": {},
   "outputs": [],
   "source": [
    "df_val = pd.read_csv('Data Science HW design val.csv')"
   ]
  },
  {
   "cell_type": "code",
   "execution_count": 4,
   "id": "31b2a18a",
   "metadata": {},
   "outputs": [
    {
     "name": "stdout",
     "output_type": "stream",
     "text": [
      "<class 'pandas.core.frame.DataFrame'>\n",
      "RangeIndex: 11500 entries, 0 to 11499\n",
      "Data columns (total 31 columns):\n",
      " #   Column   Non-Null Count  Dtype  \n",
      "---  ------   --------------  -----  \n",
      " 0   A1       11500 non-null  float64\n",
      " 1   A2       11500 non-null  float64\n",
      " 2   A3       11500 non-null  float64\n",
      " 3   A4       11500 non-null  float64\n",
      " 4   A5       11500 non-null  float64\n",
      " 5   A6       11500 non-null  float64\n",
      " 6   A7       11500 non-null  float64\n",
      " 7   A8       11500 non-null  float64\n",
      " 8   A9       11500 non-null  float64\n",
      " 9   A10      11500 non-null  float64\n",
      " 10  A11      11500 non-null  float64\n",
      " 11  A12      11500 non-null  float64\n",
      " 12  A13      11500 non-null  float64\n",
      " 13  A14      11500 non-null  float64\n",
      " 14  A15      11500 non-null  float64\n",
      " 15  A16      11500 non-null  float64\n",
      " 16  A17      11500 non-null  float64\n",
      " 17  A18      11500 non-null  float64\n",
      " 18  A19      11500 non-null  float64\n",
      " 19  A20      11500 non-null  float64\n",
      " 20  A21      11500 non-null  int64  \n",
      " 21  A22      11500 non-null  float64\n",
      " 22  A23      11500 non-null  float64\n",
      " 23  A24      11500 non-null  float64\n",
      " 24  A25      11500 non-null  float64\n",
      " 25  A26      11500 non-null  float64\n",
      " 26  A27      11500 non-null  float64\n",
      " 27  A28      11500 non-null  float64\n",
      " 28  A29      11500 non-null  float64\n",
      " 29  A30      11500 non-null  float64\n",
      " 30  default  11500 non-null  int64  \n",
      "dtypes: float64(29), int64(2)\n",
      "memory usage: 2.7 MB\n"
     ]
    }
   ],
   "source": [
    "df_val.info()"
   ]
  },
  {
   "cell_type": "markdown",
   "id": "df3bef82",
   "metadata": {},
   "source": [
    "### Step 1 : Clean and prepare your data: "
   ]
  },
  {
   "cell_type": "markdown",
   "id": "2b9b430e",
   "metadata": {},
   "source": [
    "### DATA PREPROCESSING "
   ]
  },
  {
   "cell_type": "markdown",
   "id": "9ef49e29",
   "metadata": {},
   "source": [
    "### Missing Values :"
   ]
  },
  {
   "cell_type": "markdown",
   "id": "911c3b0b",
   "metadata": {},
   "source": [
    "Check for missing values "
   ]
  },
  {
   "cell_type": "code",
   "execution_count": 5,
   "id": "aa4b24db",
   "metadata": {},
   "outputs": [
    {
     "data": {
      "text/plain": [
       "A1         0\n",
       "A2         0\n",
       "A3         0\n",
       "A4         0\n",
       "A5         0\n",
       "A6         0\n",
       "A7         0\n",
       "A8         0\n",
       "A9         0\n",
       "A10        0\n",
       "A11        0\n",
       "A12        0\n",
       "A13        0\n",
       "A14        0\n",
       "A15        0\n",
       "A16        0\n",
       "A17        0\n",
       "A18        0\n",
       "A19        0\n",
       "A20        0\n",
       "A21        0\n",
       "A22        0\n",
       "A23        0\n",
       "A24        0\n",
       "A25        0\n",
       "A26        0\n",
       "A27        0\n",
       "A28        0\n",
       "A29        0\n",
       "A30        0\n",
       "default    0\n",
       "dtype: int64"
      ]
     },
     "execution_count": 5,
     "metadata": {},
     "output_type": "execute_result"
    }
   ],
   "source": [
    "df_val.isnull().sum()"
   ]
  },
  {
   "cell_type": "markdown",
   "id": "7f4b231e",
   "metadata": {},
   "source": [
    "The data contains no missing values"
   ]
  },
  {
   "cell_type": "code",
   "execution_count": 61,
   "id": "394453da",
   "metadata": {},
   "outputs": [
    {
     "data": {
      "text/plain": [
       "10.0     10804\n",
       "111.0     9534\n",
       "19.0      1460\n",
       "12.0      1457\n",
       "14.0      1442\n",
       "         ...  \n",
       "105.0      224\n",
       "107.0      219\n",
       "106.0      201\n",
       "110.0      197\n",
       "109.0      189\n",
       "Name: A21, Length: 102, dtype: int64"
      ]
     },
     "execution_count": 61,
     "metadata": {},
     "output_type": "execute_result"
    }
   ],
   "source": [
    "df.A21.value_counts()"
   ]
  },
  {
   "cell_type": "markdown",
   "id": "dbb93da3",
   "metadata": {},
   "source": [
    "## OUTLIERS"
   ]
  },
  {
   "cell_type": "code",
   "execution_count": 7,
   "id": "4ab28baa",
   "metadata": {},
   "outputs": [
    {
     "data": {
      "text/plain": [
       "array([[<AxesSubplot:title={'center':'A1'}>,\n",
       "        <AxesSubplot:title={'center':'A2'}>,\n",
       "        <AxesSubplot:title={'center':'A3'}>,\n",
       "        <AxesSubplot:title={'center':'A4'}>],\n",
       "       [<AxesSubplot:title={'center':'A5'}>,\n",
       "        <AxesSubplot:title={'center':'A6'}>,\n",
       "        <AxesSubplot:title={'center':'A7'}>,\n",
       "        <AxesSubplot:title={'center':'A8'}>],\n",
       "       [<AxesSubplot:title={'center':'A9'}>,\n",
       "        <AxesSubplot:title={'center':'A10'}>,\n",
       "        <AxesSubplot:title={'center':'A11'}>,\n",
       "        <AxesSubplot:title={'center':'A12'}>],\n",
       "       [<AxesSubplot:title={'center':'A13'}>,\n",
       "        <AxesSubplot:title={'center':'A14'}>,\n",
       "        <AxesSubplot:title={'center':'A15'}>,\n",
       "        <AxesSubplot:title={'center':'A16'}>],\n",
       "       [<AxesSubplot:title={'center':'A17'}>,\n",
       "        <AxesSubplot:title={'center':'A18'}>,\n",
       "        <AxesSubplot:title={'center':'A19'}>,\n",
       "        <AxesSubplot:title={'center':'A20'}>],\n",
       "       [<AxesSubplot:title={'center':'A21'}>,\n",
       "        <AxesSubplot:title={'center':'A22'}>,\n",
       "        <AxesSubplot:title={'center':'A23'}>,\n",
       "        <AxesSubplot:title={'center':'A24'}>],\n",
       "       [<AxesSubplot:title={'center':'A25'}>,\n",
       "        <AxesSubplot:title={'center':'A26'}>,\n",
       "        <AxesSubplot:title={'center':'A27'}>,\n",
       "        <AxesSubplot:title={'center':'A28'}>],\n",
       "       [<AxesSubplot:title={'center':'A29'}>,\n",
       "        <AxesSubplot:title={'center':'A30'}>,\n",
       "        <AxesSubplot:title={'center':'default'}>, <AxesSubplot:>],\n",
       "       [<AxesSubplot:>, <AxesSubplot:>, <AxesSubplot:>, <AxesSubplot:>],\n",
       "       [<AxesSubplot:>, <AxesSubplot:>, <AxesSubplot:>, <AxesSubplot:>],\n",
       "       [<AxesSubplot:>, <AxesSubplot:>, <AxesSubplot:>, <AxesSubplot:>],\n",
       "       [<AxesSubplot:>, <AxesSubplot:>, <AxesSubplot:>, <AxesSubplot:>],\n",
       "       [<AxesSubplot:>, <AxesSubplot:>, <AxesSubplot:>, <AxesSubplot:>],\n",
       "       [<AxesSubplot:>, <AxesSubplot:>, <AxesSubplot:>, <AxesSubplot:>],\n",
       "       [<AxesSubplot:>, <AxesSubplot:>, <AxesSubplot:>, <AxesSubplot:>],\n",
       "       [<AxesSubplot:>, <AxesSubplot:>, <AxesSubplot:>, <AxesSubplot:>],\n",
       "       [<AxesSubplot:>, <AxesSubplot:>, <AxesSubplot:>, <AxesSubplot:>],\n",
       "       [<AxesSubplot:>, <AxesSubplot:>, <AxesSubplot:>, <AxesSubplot:>],\n",
       "       [<AxesSubplot:>, <AxesSubplot:>, <AxesSubplot:>, <AxesSubplot:>],\n",
       "       [<AxesSubplot:>, <AxesSubplot:>, <AxesSubplot:>, <AxesSubplot:>],\n",
       "       [<AxesSubplot:>, <AxesSubplot:>, <AxesSubplot:>, <AxesSubplot:>],\n",
       "       [<AxesSubplot:>, <AxesSubplot:>, <AxesSubplot:>, <AxesSubplot:>],\n",
       "       [<AxesSubplot:>, <AxesSubplot:>, <AxesSubplot:>, <AxesSubplot:>],\n",
       "       [<AxesSubplot:>, <AxesSubplot:>, <AxesSubplot:>, <AxesSubplot:>],\n",
       "       [<AxesSubplot:>, <AxesSubplot:>, <AxesSubplot:>, <AxesSubplot:>],\n",
       "       [<AxesSubplot:>, <AxesSubplot:>, <AxesSubplot:>, <AxesSubplot:>],\n",
       "       [<AxesSubplot:>, <AxesSubplot:>, <AxesSubplot:>, <AxesSubplot:>],\n",
       "       [<AxesSubplot:>, <AxesSubplot:>, <AxesSubplot:>, <AxesSubplot:>],\n",
       "       [<AxesSubplot:>, <AxesSubplot:>, <AxesSubplot:>, <AxesSubplot:>],\n",
       "       [<AxesSubplot:>, <AxesSubplot:>, <AxesSubplot:>, <AxesSubplot:>]],\n",
       "      dtype=object)"
      ]
     },
     "execution_count": 7,
     "metadata": {},
     "output_type": "execute_result"
    },
    {
     "data": {
      "image/png": "[encoded data removed]",
      "text/plain": [
       "<Figure size 1440x2880 with 120 Axes>"
      ]
     },
     "metadata": {
      "needs_background": "light"
     },
     "output_type": "display_data"
    }
   ],
   "source": [
    "df.hist(figsize=(20,40),layout=(30,4))"
   ]
  },
  {
   "cell_type": "markdown",
   "id": "71daeb40",
   "metadata": {},
   "source": [
    "The data seems to be skewed for most of the features, inorder to properly visualize the outliers, I have plotted the box plot for all the features."
   ]
  },
  {
   "cell_type": "code",
   "execution_count": 8,
   "id": "62f62aaf",
   "metadata": {},
   "outputs": [
    {
     "data": {
      "image/png": "[encoded data removed]",
      "text/plain": [
       "<Figure size 432x288 with 1 Axes>"
      ]
     },
     "metadata": {
      "needs_background": "light"
     },
     "output_type": "display_data"
    },
    {
     "data": {
      "image/png": "[encoded data removed]",
      "text/plain": [
       "<Figure size 432x288 with 1 Axes>"
      ]
     },
     "metadata": {
      "needs_background": "light"
     },
     "output_type": "display_data"
    },
    {
     "data": {
      "image/png": "[encoded data removed]",
      "text/plain": [
       "<Figure size 432x288 with 1 Axes>"
      ]
     },
     "metadata": {
      "needs_background": "light"
     },
     "output_type": "display_data"
    },
    {
     "data": {
      "image/png": "[encoded data removed]",
      "text/plain": [
       "<Figure size 432x288 with 1 Axes>"
      ]
     },
     "metadata": {
      "needs_background": "light"
     },
     "output_type": "display_data"
    },
    {
     "data": {
      "image/png": "[encoded data removed]",
      "text/plain": [
       "<Figure size 432x288 with 1 Axes>"
      ]
     },
     "metadata": {
      "needs_background": "light"
     },
     "output_type": "display_data"
    },
    {
     "data": {
      "image/png": "[encoded data removed]",
      "text/plain": [
       "<Figure size 432x288 with 1 Axes>"
      ]
     },
     "metadata": {
      "needs_background": "light"
     },
     "output_type": "display_data"
    },
    {
     "data": {
      "image/png": "[encoded data removed]",
      "text/plain": [
       "<Figure size 432x288 with 1 Axes>"
      ]
     },
     "metadata": {
      "needs_background": "light"
     },
     "output_type": "display_data"
    },
    {
     "data": {
      "image/png": "[encoded data removed]",
      "text/plain": [
       "<Figure size 432x288 with 1 Axes>"
      ]
     },
     "metadata": {
      "needs_background": "light"
     },
     "output_type": "display_data"
    },
    {
     "data": {
      "image/png": "[encoded data removed]",
      "text/plain": [
       "<Figure size 432x288 with 1 Axes>"
      ]
     },
     "metadata": {
      "needs_background": "light"
     },
     "output_type": "display_data"
    },
    {
     "data": {
      "image/png": "[encoded data removed]",
      "text/plain": [
       "<Figure size 432x288 with 1 Axes>"
      ]
     },
     "metadata": {
      "needs_background": "light"
     },
     "output_type": "display_data"
    },
    {
     "data": {
      "image/png": "[encoded data removed]",
      "text/plain": [
       "<Figure size 432x288 with 1 Axes>"
      ]
     },
     "metadata": {
      "needs_background": "light"
     },
     "output_type": "display_data"
    },
    {
     "data": {
      "image/png": "[encoded data removed]",
      "text/plain": [
       "<Figure size 432x288 with 1 Axes>"
      ]
     },
     "metadata": {
      "needs_background": "light"
     },
     "output_type": "display_data"
    },
    {
     "data": {
      "image/png": "[encoded data removed]",
      "text/plain": [
       "<Figure size 432x288 with 1 Axes>"
      ]
     },
     "metadata": {
      "needs_background": "light"
     },
     "output_type": "display_data"
    },
    {
     "data": {
      "image/png": "[encoded data removed]",
      "text/plain": [
       "<Figure size 432x288 with 1 Axes>"
      ]
     },
     "metadata": {
      "needs_background": "light"
     },
     "output_type": "display_data"
    },
    {
     "data": {
      "image/png": "[encoded data removed]",
      "text/plain": [
       "<Figure size 432x288 with 1 Axes>"
      ]
     },
     "metadata": {
      "needs_background": "light"
     },
     "output_type": "display_data"
    },
    {
     "data": {
      "image/png": "[encoded data removed]",
      "text/plain": [
       "<Figure size 432x288 with 1 Axes>"
      ]
     },
     "metadata": {
      "needs_background": "light"
     },
     "output_type": "display_data"
    },
    {
     "data": {
      "image/png": "[encoded data removed]",
      "text/plain": [
       "<Figure size 432x288 with 1 Axes>"
      ]
     },
     "metadata": {
      "needs_background": "light"
     },
     "output_type": "display_data"
    },
    {
     "data": {
      "image/png": "[encoded data removed]",
      "text/plain": [
       "<Figure size 432x288 with 1 Axes>"
      ]
     },
     "metadata": {
      "needs_background": "light"
     },
     "output_type": "display_data"
    },
    {
     "data": {
      "image/png": "[encoded data removed]",
      "text/plain": [
       "<Figure size 432x288 with 1 Axes>"
      ]
     },
     "metadata": {
      "needs_background": "light"
     },
     "output_type": "display_data"
    },
    {
     "data": {
      "image/png": "[encoded data removed]",
      "text/plain": [
       "<Figure size 432x288 with 1 Axes>"
      ]
     },
     "metadata": {
      "needs_background": "light"
     },
     "output_type": "display_data"
    },
    {
     "data": {
      "image/png": "[encoded data removed]",
      "text/plain": [
       "<Figure size 432x288 with 1 Axes>"
      ]
     },
     "metadata": {
      "needs_background": "light"
     },
     "output_type": "display_data"
    },
    {
     "data": {
      "image/png": "[encoded data removed]",
      "text/plain": [
       "<Figure size 432x288 with 1 Axes>"
      ]
     },
     "metadata": {
      "needs_background": "light"
     },
     "output_type": "display_data"
    },
    {
     "data": {
      "image/png": "[encoded data removed]",
      "text/plain": [
       "<Figure size 432x288 with 1 Axes>"
      ]
     },
     "metadata": {
      "needs_background": "light"
     },
     "output_type": "display_data"
    },
    {
     "data": {
      "image/png": "[encoded data removed]",
      "text/plain": [
       "<Figure size 432x288 with 1 Axes>"
      ]
     },
     "metadata": {
      "needs_background": "light"
     },
     "output_type": "display_data"
    },
    {
     "data": {
      "image/png": "[encoded data removed]",
      "text/plain": [
       "<Figure size 432x288 with 1 Axes>"
      ]
     },
     "metadata": {
      "needs_background": "light"
     },
     "output_type": "display_data"
    },
    {
     "data": {
      "image/png": "[encoded data removed]",
      "text/plain": [
       "<Figure size 432x288 with 1 Axes>"
      ]
     },
     "metadata": {
      "needs_background": "light"
     },
     "output_type": "display_data"
    },
    {
     "data": {
      "image/png": "[encoded data removed]",
      "text/plain": [
       "<Figure size 432x288 with 1 Axes>"
      ]
     },
     "metadata": {
      "needs_background": "light"
     },
     "output_type": "display_data"
    },
    {
     "data": {
      "image/png": "[encoded data removed]",
      "text/plain": [
       "<Figure size 432x288 with 1 Axes>"
      ]
     },
     "metadata": {
      "needs_background": "light"
     },
     "output_type": "display_data"
    },
    {
     "data": {
      "image/png": "[encoded data removed]",
      "text/plain": [
       "<Figure size 432x288 with 1 Axes>"
      ]
     },
     "metadata": {
      "needs_background": "light"
     },
     "output_type": "display_data"
    },
    {
     "data": {
      "image/png": "[encoded data removed]",
      "text/plain": [
       "<Figure size 432x288 with 1 Axes>"
      ]
     },
     "metadata": {
      "needs_background": "light"
     },
     "output_type": "display_data"
    },
    {
     "data": {
      "image/png": "[encoded data removed]",
      "text/plain": [
       "<Figure size 432x288 with 1 Axes>"
      ]
     },
     "metadata": {
      "needs_background": "light"
     },
     "output_type": "display_data"
    }
   ],
   "source": [
    "import matplotlib.pyplot as plt\n",
    "import pandas as pd\n",
    "\n",
    "for i in df.columns:\n",
    "    df.boxplot(column=i)\n",
    "    plt.show()"
   ]
  },
  {
   "cell_type": "markdown",
   "id": "0fb93146",
   "metadata": {},
   "source": [
    "We find that the data has many outliers, If we had to remove the outliers more than 50% of the data is removed from the dataset. Instead we can impute the outliers of each feature by capping the outlier values with the 10th and 90th percentile values"
   ]
  },
  {
   "cell_type": "code",
   "execution_count": 9,
   "id": "333e54ae",
   "metadata": {},
   "outputs": [],
   "source": [
    "import numpy as np\n",
    "cols = ['A1', 'A2','A3','A4', 'A5','A6','A7', 'A8','A9', 'A10', 'A11','A12','A13', 'A14','A15','A16', 'A17','A18'\n",
    "       ,'A19', 'A20','A21','A22', 'A23','A24','A25', 'A26','A27','A28', 'A29','A30']\n",
    "\n",
    "Q10 = df[cols].quantile(0.10)\n",
    "Q90 = df[cols].quantile(0.90)\n",
    "\n",
    "df[cols] = np.where(df[cols] < Q10,Q10,df[cols])\n",
    "df[cols] = np.where(df[cols] > Q90,Q90,df[cols])  "
   ]
  },
  {
   "cell_type": "code",
   "execution_count": 10,
   "id": "a1197554",
   "metadata": {},
   "outputs": [
    {
     "data": {
      "text/html": [
       "<div>\n",
       "<style scoped>\n",
       "    .dataframe tbody tr th:only-of-type {\n",
       "        vertical-align: middle;\n",
       "    }\n",
       "\n",
       "    .dataframe tbody tr th {\n",
       "        vertical-align: top;\n",
       "    }\n",
       "\n",
       "    .dataframe thead th {\n",
       "        text-align: right;\n",
       "    }\n",
       "</style>\n",
       "<table border=\"1\" class=\"dataframe\">\n",
       "  <thead>\n",
       "    <tr style=\"text-align: right;\">\n",
       "      <th></th>\n",
       "      <th>A1</th>\n",
       "      <th>A2</th>\n",
       "      <th>A3</th>\n",
       "      <th>A4</th>\n",
       "      <th>A5</th>\n",
       "      <th>A6</th>\n",
       "      <th>A7</th>\n",
       "      <th>A8</th>\n",
       "      <th>A9</th>\n",
       "      <th>A10</th>\n",
       "      <th>...</th>\n",
       "      <th>A22</th>\n",
       "      <th>A23</th>\n",
       "      <th>A24</th>\n",
       "      <th>A25</th>\n",
       "      <th>A26</th>\n",
       "      <th>A27</th>\n",
       "      <th>A28</th>\n",
       "      <th>A29</th>\n",
       "      <th>A30</th>\n",
       "      <th>default</th>\n",
       "    </tr>\n",
       "  </thead>\n",
       "  <tbody>\n",
       "    <tr>\n",
       "      <th>count</th>\n",
       "      <td>94000.000000</td>\n",
       "      <td>94000.000000</td>\n",
       "      <td>94000.000000</td>\n",
       "      <td>94000.000000</td>\n",
       "      <td>94000.000000</td>\n",
       "      <td>94000.000000</td>\n",
       "      <td>94000.000000</td>\n",
       "      <td>94000.000000</td>\n",
       "      <td>94000.000000</td>\n",
       "      <td>94000.000000</td>\n",
       "      <td>...</td>\n",
       "      <td>94000.000000</td>\n",
       "      <td>94000.000000</td>\n",
       "      <td>94000.000000</td>\n",
       "      <td>94000.000000</td>\n",
       "      <td>94000.000000</td>\n",
       "      <td>94000.000000</td>\n",
       "      <td>94000.000000</td>\n",
       "      <td>94000.000000</td>\n",
       "      <td>94000.000000</td>\n",
       "      <td>94000.000000</td>\n",
       "    </tr>\n",
       "    <tr>\n",
       "      <th>mean</th>\n",
       "      <td>11.914837</td>\n",
       "      <td>84.206586</td>\n",
       "      <td>7238.511225</td>\n",
       "      <td>12651.641766</td>\n",
       "      <td>33.196271</td>\n",
       "      <td>36.587689</td>\n",
       "      <td>1.451228</td>\n",
       "      <td>123.426096</td>\n",
       "      <td>1.687591</td>\n",
       "      <td>1.401039</td>\n",
       "      <td>...</td>\n",
       "      <td>0.055851</td>\n",
       "      <td>0.005558</td>\n",
       "      <td>0.009427</td>\n",
       "      <td>0.108291</td>\n",
       "      <td>232.752303</td>\n",
       "      <td>287.189956</td>\n",
       "      <td>87.794747</td>\n",
       "      <td>21.874932</td>\n",
       "      <td>28.752358</td>\n",
       "      <td>0.042553</td>\n",
       "    </tr>\n",
       "    <tr>\n",
       "      <th>std</th>\n",
       "      <td>5.408093</td>\n",
       "      <td>6.850754</td>\n",
       "      <td>2052.542068</td>\n",
       "      <td>4938.457121</td>\n",
       "      <td>8.767080</td>\n",
       "      <td>10.561492</td>\n",
       "      <td>0.750047</td>\n",
       "      <td>25.502458</td>\n",
       "      <td>0.518557</td>\n",
       "      <td>0.411714</td>\n",
       "      <td>...</td>\n",
       "      <td>0.052086</td>\n",
       "      <td>0.007482</td>\n",
       "      <td>0.010331</td>\n",
       "      <td>0.065930</td>\n",
       "      <td>274.218537</td>\n",
       "      <td>365.382508</td>\n",
       "      <td>85.503599</td>\n",
       "      <td>25.764889</td>\n",
       "      <td>41.787039</td>\n",
       "      <td>0.201849</td>\n",
       "    </tr>\n",
       "    <tr>\n",
       "      <th>min</th>\n",
       "      <td>3.330000</td>\n",
       "      <td>73.000000</td>\n",
       "      <td>3984.617000</td>\n",
       "      <td>6028.570000</td>\n",
       "      <td>19.440000</td>\n",
       "      <td>20.290000</td>\n",
       "      <td>0.360000</td>\n",
       "      <td>80.440000</td>\n",
       "      <td>0.917000</td>\n",
       "      <td>0.750000</td>\n",
       "      <td>...</td>\n",
       "      <td>0.010000</td>\n",
       "      <td>0.000000</td>\n",
       "      <td>0.000000</td>\n",
       "      <td>0.040000</td>\n",
       "      <td>0.000000</td>\n",
       "      <td>0.000000</td>\n",
       "      <td>0.000000</td>\n",
       "      <td>0.000000</td>\n",
       "      <td>0.000000</td>\n",
       "      <td>0.000000</td>\n",
       "    </tr>\n",
       "    <tr>\n",
       "      <th>25%</th>\n",
       "      <td>7.670000</td>\n",
       "      <td>79.000000</td>\n",
       "      <td>5618.627500</td>\n",
       "      <td>8700.000000</td>\n",
       "      <td>26.880000</td>\n",
       "      <td>28.780000</td>\n",
       "      <td>0.820000</td>\n",
       "      <td>103.027500</td>\n",
       "      <td>1.272000</td>\n",
       "      <td>1.000000</td>\n",
       "      <td>...</td>\n",
       "      <td>0.010000</td>\n",
       "      <td>0.000000</td>\n",
       "      <td>0.000000</td>\n",
       "      <td>0.060000</td>\n",
       "      <td>0.000000</td>\n",
       "      <td>0.000000</td>\n",
       "      <td>14.970000</td>\n",
       "      <td>0.000000</td>\n",
       "      <td>0.000000</td>\n",
       "      <td>0.000000</td>\n",
       "    </tr>\n",
       "    <tr>\n",
       "      <th>50%</th>\n",
       "      <td>12.020000</td>\n",
       "      <td>84.360000</td>\n",
       "      <td>7285.590000</td>\n",
       "      <td>11862.650000</td>\n",
       "      <td>32.770000</td>\n",
       "      <td>35.940000</td>\n",
       "      <td>1.420000</td>\n",
       "      <td>127.240000</td>\n",
       "      <td>1.667000</td>\n",
       "      <td>1.399000</td>\n",
       "      <td>...</td>\n",
       "      <td>0.030000</td>\n",
       "      <td>0.000000</td>\n",
       "      <td>0.010000</td>\n",
       "      <td>0.090000</td>\n",
       "      <td>115.140000</td>\n",
       "      <td>102.265000</td>\n",
       "      <td>59.350000</td>\n",
       "      <td>10.500000</td>\n",
       "      <td>0.000000</td>\n",
       "      <td>0.000000</td>\n",
       "    </tr>\n",
       "    <tr>\n",
       "      <th>75%</th>\n",
       "      <td>16.080000</td>\n",
       "      <td>89.670000</td>\n",
       "      <td>8780.870000</td>\n",
       "      <td>15896.575000</td>\n",
       "      <td>39.100000</td>\n",
       "      <td>43.830000</td>\n",
       "      <td>2.020000</td>\n",
       "      <td>143.100000</td>\n",
       "      <td>2.064000</td>\n",
       "      <td>1.714000</td>\n",
       "      <td>...</td>\n",
       "      <td>0.080000</td>\n",
       "      <td>0.010000</td>\n",
       "      <td>0.010000</td>\n",
       "      <td>0.140000</td>\n",
       "      <td>380.142500</td>\n",
       "      <td>485.880000</td>\n",
       "      <td>140.952500</td>\n",
       "      <td>34.860000</td>\n",
       "      <td>49.862500</td>\n",
       "      <td>0.000000</td>\n",
       "    </tr>\n",
       "    <tr>\n",
       "      <th>max</th>\n",
       "      <td>20.500000</td>\n",
       "      <td>94.720000</td>\n",
       "      <td>10528.048000</td>\n",
       "      <td>21877.285000</td>\n",
       "      <td>48.330000</td>\n",
       "      <td>54.830000</td>\n",
       "      <td>2.700000</td>\n",
       "      <td>161.000000</td>\n",
       "      <td>2.556000</td>\n",
       "      <td>2.067000</td>\n",
       "      <td>...</td>\n",
       "      <td>0.170000</td>\n",
       "      <td>0.020000</td>\n",
       "      <td>0.030000</td>\n",
       "      <td>0.250000</td>\n",
       "      <td>808.052000</td>\n",
       "      <td>1060.656000</td>\n",
       "      <td>258.490000</td>\n",
       "      <td>76.761000</td>\n",
       "      <td>119.251000</td>\n",
       "      <td>1.000000</td>\n",
       "    </tr>\n",
       "  </tbody>\n",
       "</table>\n",
       "<p>8 rows × 31 columns</p>\n",
       "</div>"
      ],
      "text/plain": [
       "                 A1            A2            A3            A4            A5  \\\n",
       "count  94000.000000  94000.000000  94000.000000  94000.000000  94000.000000   \n",
       "mean      11.914837     84.206586   7238.511225  12651.641766     33.196271   \n",
       "std        5.408093      6.850754   2052.542068   4938.457121      8.767080   \n",
       "min        3.330000     73.000000   3984.617000   6028.570000     19.440000   \n",
       "25%        7.670000     79.000000   5618.627500   8700.000000     26.880000   \n",
       "50%       12.020000     84.360000   7285.590000  11862.650000     32.770000   \n",
       "75%       16.080000     89.670000   8780.870000  15896.575000     39.100000   \n",
       "max       20.500000     94.720000  10528.048000  21877.285000     48.330000   \n",
       "\n",
       "                 A6            A7            A8            A9           A10  \\\n",
       "count  94000.000000  94000.000000  94000.000000  94000.000000  94000.000000   \n",
       "mean      36.587689      1.451228    123.426096      1.687591      1.401039   \n",
       "std       10.561492      0.750047     25.502458      0.518557      0.411714   \n",
       "min       20.290000      0.360000     80.440000      0.917000      0.750000   \n",
       "25%       28.780000      0.820000    103.027500      1.272000      1.000000   \n",
       "50%       35.940000      1.420000    127.240000      1.667000      1.399000   \n",
       "75%       43.830000      2.020000    143.100000      2.064000      1.714000   \n",
       "max       54.830000      2.700000    161.000000      2.556000      2.067000   \n",
       "\n",
       "       ...           A22           A23           A24           A25  \\\n",
       "count  ...  94000.000000  94000.000000  94000.000000  94000.000000   \n",
       "mean   ...      0.055851      0.005558      0.009427      0.108291   \n",
       "std    ...      0.052086      0.007482      0.010331      0.065930   \n",
       "min    ...      0.010000      0.000000      0.000000      0.040000   \n",
       "25%    ...      0.010000      0.000000      0.000000      0.060000   \n",
       "50%    ...      0.030000      0.000000      0.010000      0.090000   \n",
       "75%    ...      0.080000      0.010000      0.010000      0.140000   \n",
       "max    ...      0.170000      0.020000      0.030000      0.250000   \n",
       "\n",
       "                A26           A27           A28           A29           A30  \\\n",
       "count  94000.000000  94000.000000  94000.000000  94000.000000  94000.000000   \n",
       "mean     232.752303    287.189956     87.794747     21.874932     28.752358   \n",
       "std      274.218537    365.382508     85.503599     25.764889     41.787039   \n",
       "min        0.000000      0.000000      0.000000      0.000000      0.000000   \n",
       "25%        0.000000      0.000000     14.970000      0.000000      0.000000   \n",
       "50%      115.140000    102.265000     59.350000     10.500000      0.000000   \n",
       "75%      380.142500    485.880000    140.952500     34.860000     49.862500   \n",
       "max      808.052000   1060.656000    258.490000     76.761000    119.251000   \n",
       "\n",
       "            default  \n",
       "count  94000.000000  \n",
       "mean       0.042553  \n",
       "std        0.201849  \n",
       "min        0.000000  \n",
       "25%        0.000000  \n",
       "50%        0.000000  \n",
       "75%        0.000000  \n",
       "max        1.000000  \n",
       "\n",
       "[8 rows x 31 columns]"
      ]
     },
     "execution_count": 10,
     "metadata": {},
     "output_type": "execute_result"
    }
   ],
   "source": [
    "df.describe()"
   ]
  },
  {
   "cell_type": "code",
   "execution_count": 11,
   "id": "f4ae7f10",
   "metadata": {},
   "outputs": [
    {
     "data": {
      "image/png": "[encoded data removed]",
      "text/plain": [
       "<Figure size 432x288 with 1 Axes>"
      ]
     },
     "metadata": {
      "needs_background": "light"
     },
     "output_type": "display_data"
    },
    {
     "data": {
      "image/png": "[encoded data removed]",
      "text/plain": [
       "<Figure size 432x288 with 1 Axes>"
      ]
     },
     "metadata": {
      "needs_background": "light"
     },
     "output_type": "display_data"
    },
    {
     "data": {
      "image/png": "[encoded data removed]",
      "text/plain": [
       "<Figure size 432x288 with 1 Axes>"
      ]
     },
     "metadata": {
      "needs_background": "light"
     },
     "output_type": "display_data"
    },
    {
     "data": {
      "image/png": "[encoded data removed]",
      "text/plain": [
       "<Figure size 432x288 with 1 Axes>"
      ]
     },
     "metadata": {
      "needs_background": "light"
     },
     "output_type": "display_data"
    },
    {
     "data": {
      "image/png": "[encoded data removed]",
      "text/plain": [
       "<Figure size 432x288 with 1 Axes>"
      ]
     },
     "metadata": {
      "needs_background": "light"
     },
     "output_type": "display_data"
    },
    {
     "data": {
      "image/png": "[encoded data removed]",
      "text/plain": [
       "<Figure size 432x288 with 1 Axes>"
      ]
     },
     "metadata": {
      "needs_background": "light"
     },
     "output_type": "display_data"
    },
    {
     "data": {
      "image/png": "[encoded data removed]",
      "text/plain": [
       "<Figure size 432x288 with 1 Axes>"
      ]
     },
     "metadata": {
      "needs_background": "light"
     },
     "output_type": "display_data"
    },
    {
     "data": {
      "image/png": "[encoded data removed]",
      "text/plain": [
       "<Figure size 432x288 with 1 Axes>"
      ]
     },
     "metadata": {
      "needs_background": "light"
     },
     "output_type": "display_data"
    },
    {
     "data": {
      "image/png": "[encoded data removed]",
      "text/plain": [
       "<Figure size 432x288 with 1 Axes>"
      ]
     },
     "metadata": {
      "needs_background": "light"
     },
     "output_type": "display_data"
    },
    {
     "data": {
      "image/png": "[encoded data removed]",
      "text/plain": [
       "<Figure size 432x288 with 1 Axes>"
      ]
     },
     "metadata": {
      "needs_background": "light"
     },
     "output_type": "display_data"
    },
    {
     "data": {
      "image/png": "[encoded data removed]",
      "text/plain": [
       "<Figure size 432x288 with 1 Axes>"
      ]
     },
     "metadata": {
      "needs_background": "light"
     },
     "output_type": "display_data"
    },
    {
     "data": {
      "image/png": "[encoded data removed]",
      "text/plain": [
       "<Figure size 432x288 with 1 Axes>"
      ]
     },
     "metadata": {
      "needs_background": "light"
     },
     "output_type": "display_data"
    },
    {
     "data": {
      "image/png": "[encoded data removed]",
      "text/plain": [
       "<Figure size 432x288 with 1 Axes>"
      ]
     },
     "metadata": {
      "needs_background": "light"
     },
     "output_type": "display_data"
    },
    {
     "data": {
      "image/png": "[encoded data removed]",
      "text/plain": [
       "<Figure size 432x288 with 1 Axes>"
      ]
     },
     "metadata": {
      "needs_background": "light"
     },
     "output_type": "display_data"
    },
    {
     "data": {
      "image/png": "[encoded data removed]",
      "text/plain": [
       "<Figure size 432x288 with 1 Axes>"
      ]
     },
     "metadata": {
      "needs_background": "light"
     },
     "output_type": "display_data"
    },
    {
     "data": {
      "image/png": "[encoded data removed]",
      "text/plain": [
       "<Figure size 432x288 with 1 Axes>"
      ]
     },
     "metadata": {
      "needs_background": "light"
     },
     "output_type": "display_data"
    },
    {
     "data": {
      "image/png": "[encoded data removed]",
      "text/plain": [
       "<Figure size 432x288 with 1 Axes>"
      ]
     },
     "metadata": {
      "needs_background": "light"
     },
     "output_type": "display_data"
    },
    {
     "data": {
      "image/png": "[encoded data removed]",
      "text/plain": [
       "<Figure size 432x288 with 1 Axes>"
      ]
     },
     "metadata": {
      "needs_background": "light"
     },
     "output_type": "display_data"
    },
    {
     "data": {
      "image/png": "[encoded data removed]",
      "text/plain": [
       "<Figure size 432x288 with 1 Axes>"
      ]
     },
     "metadata": {
      "needs_background": "light"
     },
     "output_type": "display_data"
    },
    {
     "data": {
      "image/png": "[encoded data removed]",
      "text/plain": [
       "<Figure size 432x288 with 1 Axes>"
      ]
     },
     "metadata": {
      "needs_background": "light"
     },
     "output_type": "display_data"
    },
    {
     "data": {
      "image/png": "[encoded data removed]",
      "text/plain": [
       "<Figure size 432x288 with 1 Axes>"
      ]
     },
     "metadata": {
      "needs_background": "light"
     },
     "output_type": "display_data"
    },
    {
     "data": {
      "image/png": "[encoded data removed]",
      "text/plain": [
       "<Figure size 432x288 with 1 Axes>"
      ]
     },
     "metadata": {
      "needs_background": "light"
     },
     "output_type": "display_data"
    },
    {
     "data": {
      "image/png": "[encoded data removed]",
      "text/plain": [
       "<Figure size 432x288 with 1 Axes>"
      ]
     },
     "metadata": {
      "needs_background": "light"
     },
     "output_type": "display_data"
    },
    {
     "data": {
      "image/png": "[encoded data removed]",
      "text/plain": [
       "<Figure size 432x288 with 1 Axes>"
      ]
     },
     "metadata": {
      "needs_background": "light"
     },
     "output_type": "display_data"
    },
    {
     "data": {
      "image/png": "[encoded data removed]",
      "text/plain": [
       "<Figure size 432x288 with 1 Axes>"
      ]
     },
     "metadata": {
      "needs_background": "light"
     },
     "output_type": "display_data"
    },
    {
     "data": {
      "image/png": "[encoded data removed]",
      "text/plain": [
       "<Figure size 432x288 with 1 Axes>"
      ]
     },
     "metadata": {
      "needs_background": "light"
     },
     "output_type": "display_data"
    },
    {
     "data": {
      "image/png": "[encoded data removed]",
      "text/plain": [
       "<Figure size 432x288 with 1 Axes>"
      ]
     },
     "metadata": {
      "needs_background": "light"
     },
     "output_type": "display_data"
    },
    {
     "data": {
      "image/png": "[encoded data removed]",
      "text/plain": [
       "<Figure size 432x288 with 1 Axes>"
      ]
     },
     "metadata": {
      "needs_background": "light"
     },
     "output_type": "display_data"
    },
    {
     "data": {
      "image/png": "[encoded data removed]",
      "text/plain": [
       "<Figure size 432x288 with 1 Axes>"
      ]
     },
     "metadata": {
      "needs_background": "light"
     },
     "output_type": "display_data"
    },
    {
     "data": {
      "image/png": "[encoded data removed]",
      "text/plain": [
       "<Figure size 432x288 with 1 Axes>"
      ]
     },
     "metadata": {
      "needs_background": "light"
     },
     "output_type": "display_data"
    },
    {
     "data": {
      "image/png": "[encoded data removed]",
      "text/plain": [
       "<Figure size 432x288 with 1 Axes>"
      ]
     },
     "metadata": {
      "needs_background": "light"
     },
     "output_type": "display_data"
    }
   ],
   "source": [
    "import matplotlib.pyplot as plt\n",
    "import pandas as pd\n",
    "\n",
    "for i in df.columns:\n",
    "    df.boxplot(column=i)\n",
    "    plt.show()"
   ]
  },
  {
   "cell_type": "markdown",
   "id": "01111459",
   "metadata": {},
   "source": [
    "The data now seems to be properly distributed for all the columns. "
   ]
  },
  {
   "cell_type": "markdown",
   "id": "74679f99",
   "metadata": {},
   "source": [
    "## Uninformative features "
   ]
  },
  {
   "cell_type": "markdown",
   "id": "cd68ca91",
   "metadata": {},
   "source": [
    "I have indivually checked for the data in the following columns and found that more than 60% of the data is the same. Even performing data analysis using these columns would lead to biased results. So I am dropping these columns "
   ]
  },
  {
   "cell_type": "code",
   "execution_count": 12,
   "id": "5942496b",
   "metadata": {},
   "outputs": [
    {
     "data": {
      "text/plain": [
       "0.00    56464\n",
       "0.01    22827\n",
       "0.02    14709\n",
       "Name: A23, dtype: int64"
      ]
     },
     "execution_count": 12,
     "metadata": {},
     "output_type": "execute_result"
    }
   ],
   "source": [
    "df.A23.value_counts()# correlation analysis "
   ]
  },
  {
   "cell_type": "code",
   "execution_count": 13,
   "id": "c737c96a",
   "metadata": {},
   "outputs": [
    {
     "data": {
      "text/plain": [
       "0.00    40510\n",
       "0.01    30868\n",
       "0.03    12503\n",
       "0.02    10119\n",
       "Name: A24, dtype: int64"
      ]
     },
     "execution_count": 13,
     "metadata": {},
     "output_type": "execute_result"
    }
   ],
   "source": [
    "df.A24.value_counts()"
   ]
  },
  {
   "cell_type": "code",
   "execution_count": 14,
   "id": "02684732",
   "metadata": {},
   "outputs": [
    {
     "data": {
      "text/plain": [
       "0.000      52249\n",
       "119.251     9400\n",
       "19.880        35\n",
       "10.000        32\n",
       "25.000        30\n",
       "           ...  \n",
       "7.990          1\n",
       "98.780         1\n",
       "85.270         1\n",
       "117.170        1\n",
       "117.010        1\n",
       "Name: A30, Length: 10513, dtype: int64"
      ]
     },
     "execution_count": 14,
     "metadata": {},
     "output_type": "execute_result"
    }
   ],
   "source": [
    "df.A30.value_counts()"
   ]
  },
  {
   "cell_type": "code",
   "execution_count": 15,
   "id": "61f023a8",
   "metadata": {},
   "outputs": [],
   "source": [
    "df.drop('A23', axis = 1, inplace = True)\n",
    "df.drop('A24', axis = 1, inplace = True)\n",
    "df.drop('A30', axis = 1, inplace = True)"
   ]
  },
  {
   "cell_type": "markdown",
   "id": "72fc81df",
   "metadata": {},
   "source": [
    "## Duplicate records "
   ]
  },
  {
   "cell_type": "code",
   "execution_count": 16,
   "id": "4f1b3d73",
   "metadata": {},
   "outputs": [
    {
     "name": "stdout",
     "output_type": "stream",
     "text": [
      "4\n"
     ]
    },
    {
     "data": {
      "text/html": [
       "<div>\n",
       "<style scoped>\n",
       "    .dataframe tbody tr th:only-of-type {\n",
       "        vertical-align: middle;\n",
       "    }\n",
       "\n",
       "    .dataframe tbody tr th {\n",
       "        vertical-align: top;\n",
       "    }\n",
       "\n",
       "    .dataframe thead th {\n",
       "        text-align: right;\n",
       "    }\n",
       "</style>\n",
       "<table border=\"1\" class=\"dataframe\">\n",
       "  <thead>\n",
       "    <tr style=\"text-align: right;\">\n",
       "      <th></th>\n",
       "      <th>A1</th>\n",
       "      <th>A2</th>\n",
       "      <th>A3</th>\n",
       "      <th>A4</th>\n",
       "      <th>A5</th>\n",
       "      <th>A6</th>\n",
       "      <th>A7</th>\n",
       "      <th>A8</th>\n",
       "      <th>A9</th>\n",
       "      <th>A10</th>\n",
       "      <th>...</th>\n",
       "      <th>A19</th>\n",
       "      <th>A20</th>\n",
       "      <th>A21</th>\n",
       "      <th>A22</th>\n",
       "      <th>A25</th>\n",
       "      <th>A26</th>\n",
       "      <th>A27</th>\n",
       "      <th>A28</th>\n",
       "      <th>A29</th>\n",
       "      <th>default</th>\n",
       "    </tr>\n",
       "  </thead>\n",
       "  <tbody>\n",
       "    <tr>\n",
       "      <th>27342</th>\n",
       "      <td>16.21</td>\n",
       "      <td>77.89</td>\n",
       "      <td>7869.57</td>\n",
       "      <td>12584.75</td>\n",
       "      <td>36.89</td>\n",
       "      <td>40.33</td>\n",
       "      <td>1.65</td>\n",
       "      <td>130.85</td>\n",
       "      <td>1.625</td>\n",
       "      <td>1.400</td>\n",
       "      <td>...</td>\n",
       "      <td>0.14</td>\n",
       "      <td>1.31</td>\n",
       "      <td>10.0</td>\n",
       "      <td>0.01</td>\n",
       "      <td>0.17</td>\n",
       "      <td>0.0</td>\n",
       "      <td>0.0</td>\n",
       "      <td>0.0</td>\n",
       "      <td>0.0</td>\n",
       "      <td>0</td>\n",
       "    </tr>\n",
       "    <tr>\n",
       "      <th>45462</th>\n",
       "      <td>11.03</td>\n",
       "      <td>84.42</td>\n",
       "      <td>7847.80</td>\n",
       "      <td>12001.76</td>\n",
       "      <td>29.30</td>\n",
       "      <td>32.97</td>\n",
       "      <td>1.85</td>\n",
       "      <td>146.77</td>\n",
       "      <td>1.658</td>\n",
       "      <td>1.389</td>\n",
       "      <td>...</td>\n",
       "      <td>0.09</td>\n",
       "      <td>1.11</td>\n",
       "      <td>10.0</td>\n",
       "      <td>0.01</td>\n",
       "      <td>0.09</td>\n",
       "      <td>0.0</td>\n",
       "      <td>0.0</td>\n",
       "      <td>0.0</td>\n",
       "      <td>0.0</td>\n",
       "      <td>0</td>\n",
       "    </tr>\n",
       "    <tr>\n",
       "      <th>56774</th>\n",
       "      <td>11.33</td>\n",
       "      <td>83.63</td>\n",
       "      <td>8171.30</td>\n",
       "      <td>20198.02</td>\n",
       "      <td>30.27</td>\n",
       "      <td>31.88</td>\n",
       "      <td>1.43</td>\n",
       "      <td>136.45</td>\n",
       "      <td>2.105</td>\n",
       "      <td>1.662</td>\n",
       "      <td>...</td>\n",
       "      <td>0.10</td>\n",
       "      <td>1.28</td>\n",
       "      <td>10.0</td>\n",
       "      <td>0.01</td>\n",
       "      <td>0.11</td>\n",
       "      <td>0.0</td>\n",
       "      <td>0.0</td>\n",
       "      <td>0.0</td>\n",
       "      <td>0.0</td>\n",
       "      <td>0</td>\n",
       "    </tr>\n",
       "    <tr>\n",
       "      <th>75540</th>\n",
       "      <td>7.40</td>\n",
       "      <td>92.93</td>\n",
       "      <td>10502.36</td>\n",
       "      <td>12046.67</td>\n",
       "      <td>22.67</td>\n",
       "      <td>25.00</td>\n",
       "      <td>0.40</td>\n",
       "      <td>110.93</td>\n",
       "      <td>1.556</td>\n",
       "      <td>1.444</td>\n",
       "      <td>...</td>\n",
       "      <td>0.00</td>\n",
       "      <td>1.07</td>\n",
       "      <td>20.0</td>\n",
       "      <td>0.01</td>\n",
       "      <td>0.07</td>\n",
       "      <td>0.0</td>\n",
       "      <td>0.0</td>\n",
       "      <td>0.0</td>\n",
       "      <td>0.0</td>\n",
       "      <td>0</td>\n",
       "    </tr>\n",
       "  </tbody>\n",
       "</table>\n",
       "<p>4 rows × 28 columns</p>\n",
       "</div>"
      ],
      "text/plain": [
       "          A1     A2        A3        A4     A5     A6    A7      A8     A9  \\\n",
       "27342  16.21  77.89   7869.57  12584.75  36.89  40.33  1.65  130.85  1.625   \n",
       "45462  11.03  84.42   7847.80  12001.76  29.30  32.97  1.85  146.77  1.658   \n",
       "56774  11.33  83.63   8171.30  20198.02  30.27  31.88  1.43  136.45  2.105   \n",
       "75540   7.40  92.93  10502.36  12046.67  22.67  25.00  0.40  110.93  1.556   \n",
       "\n",
       "         A10  ...   A19   A20   A21   A22   A25  A26  A27  A28  A29  default  \n",
       "27342  1.400  ...  0.14  1.31  10.0  0.01  0.17  0.0  0.0  0.0  0.0        0  \n",
       "45462  1.389  ...  0.09  1.11  10.0  0.01  0.09  0.0  0.0  0.0  0.0        0  \n",
       "56774  1.662  ...  0.10  1.28  10.0  0.01  0.11  0.0  0.0  0.0  0.0        0  \n",
       "75540  1.444  ...  0.00  1.07  20.0  0.01  0.07  0.0  0.0  0.0  0.0        0  \n",
       "\n",
       "[4 rows x 28 columns]"
      ]
     },
     "execution_count": 16,
     "metadata": {},
     "output_type": "execute_result"
    }
   ],
   "source": [
    "d = df.duplicated()\n",
    "print(d.sum())\n",
    "df[d]"
   ]
  },
  {
   "cell_type": "markdown",
   "id": "eeaa4fee",
   "metadata": {},
   "source": [
    "Since we have only 4 duplicate records in the data, we will remove this from the data set so that we get only distinct records. Post removing the duplicate, we will check whether the duplicates have been removed from the data set or not."
   ]
  },
  {
   "cell_type": "code",
   "execution_count": 17,
   "id": "aa4c7e6b",
   "metadata": {},
   "outputs": [],
   "source": [
    "df.drop_duplicates(inplace = True)"
   ]
  },
  {
   "cell_type": "code",
   "execution_count": 18,
   "id": "232a1e25",
   "metadata": {},
   "outputs": [
    {
     "name": "stdout",
     "output_type": "stream",
     "text": [
      "0\n"
     ]
    },
    {
     "data": {
      "text/html": [
       "<div>\n",
       "<style scoped>\n",
       "    .dataframe tbody tr th:only-of-type {\n",
       "        vertical-align: middle;\n",
       "    }\n",
       "\n",
       "    .dataframe tbody tr th {\n",
       "        vertical-align: top;\n",
       "    }\n",
       "\n",
       "    .dataframe thead th {\n",
       "        text-align: right;\n",
       "    }\n",
       "</style>\n",
       "<table border=\"1\" class=\"dataframe\">\n",
       "  <thead>\n",
       "    <tr style=\"text-align: right;\">\n",
       "      <th></th>\n",
       "      <th>A1</th>\n",
       "      <th>A2</th>\n",
       "      <th>A3</th>\n",
       "      <th>A4</th>\n",
       "      <th>A5</th>\n",
       "      <th>A6</th>\n",
       "      <th>A7</th>\n",
       "      <th>A8</th>\n",
       "      <th>A9</th>\n",
       "      <th>A10</th>\n",
       "      <th>...</th>\n",
       "      <th>A19</th>\n",
       "      <th>A20</th>\n",
       "      <th>A21</th>\n",
       "      <th>A22</th>\n",
       "      <th>A25</th>\n",
       "      <th>A26</th>\n",
       "      <th>A27</th>\n",
       "      <th>A28</th>\n",
       "      <th>A29</th>\n",
       "      <th>default</th>\n",
       "    </tr>\n",
       "  </thead>\n",
       "  <tbody>\n",
       "  </tbody>\n",
       "</table>\n",
       "<p>0 rows × 28 columns</p>\n",
       "</div>"
      ],
      "text/plain": [
       "Empty DataFrame\n",
       "Columns: [A1, A2, A3, A4, A5, A6, A7, A8, A9, A10, A11, A12, A13, A14, A15, A16, A17, A18, A19, A20, A21, A22, A25, A26, A27, A28, A29, default]\n",
       "Index: []\n",
       "\n",
       "[0 rows x 28 columns]"
      ]
     },
     "execution_count": 18,
     "metadata": {},
     "output_type": "execute_result"
    }
   ],
   "source": [
    "d = df.duplicated()\n",
    "print(d.sum())\n",
    "df[d]"
   ]
  },
  {
   "cell_type": "markdown",
   "id": "d72a9c02",
   "metadata": {},
   "source": [
    "### Scaling"
   ]
  },
  {
   "cell_type": "markdown",
   "id": "9257813c",
   "metadata": {},
   "source": [
    "The entire data is widely distributed for over different values. So I have used the min-max scaler, to scale the data. "
   ]
  },
  {
   "cell_type": "code",
   "execution_count": 19,
   "id": "d8588965",
   "metadata": {},
   "outputs": [],
   "source": [
    "from sklearn.preprocessing import MinMaxScaler\n",
    "from sklearn.model_selection import train_test_split\n",
    "\n",
    "y = df['default']\n",
    "X = df.drop('default', axis = 1)\n",
    "\n",
    "X_train_org, X_test_org, y_train, y_test = train_test_split(X, y, random_state = 0)\n",
    "scaler = MinMaxScaler()\n",
    "X_train = scaler.fit_transform(X_train_org)\n",
    "X_test = scaler.transform(X_test_org)"
   ]
  },
  {
   "cell_type": "code",
   "execution_count": 20,
   "id": "bb348a98",
   "metadata": {},
   "outputs": [
    {
     "data": {
      "text/plain": [
       "0    89996\n",
       "1     4000\n",
       "Name: default, dtype: int64"
      ]
     },
     "execution_count": 20,
     "metadata": {},
     "output_type": "execute_result"
    }
   ],
   "source": [
    "df.default.value_counts()"
   ]
  },
  {
   "cell_type": "markdown",
   "id": "c9eec888",
   "metadata": {},
   "source": [
    "The data is highly imbalanced.More than 90% of the data has the default value as 0. So inorder to get accurate results I have used the SMOTE to upsample the data."
   ]
  },
  {
   "cell_type": "markdown",
   "id": "de73f1c1",
   "metadata": {},
   "source": [
    "### Upsampling "
   ]
  },
  {
   "cell_type": "markdown",
   "id": "23245f75",
   "metadata": {},
   "source": [
    "Upsamples minority class using SMOTE.Ratio argument is the percentage of the upsampled minority class in relation to the majority class. Default is 1.0\n"
   ]
  },
  {
   "cell_type": "code",
   "execution_count": 21,
   "id": "1e0bdce9",
   "metadata": {},
   "outputs": [],
   "source": [
    "from imblearn.over_sampling import SMOTE \n",
    "\n",
    "def upsample_SMOTE(X_train, y_train, ratio = 1.0):\n",
    "    \n",
    "    sm = SMOTE(random_state=23, sampling_strategy=ratio)\n",
    "    X_train_sm, y_train_sm = sm.fit_resample(X_train, y_train)\n",
    "    return X_train_sm, y_train_sm\n",
    "\n",
    "X_train_sm,y_train_sm = upsample_SMOTE(X_train, y_train, ratio=1.0)"
   ]
  },
  {
   "cell_type": "code",
   "execution_count": 62,
   "id": "37f98b78",
   "metadata": {},
   "outputs": [
    {
     "data": {
      "text/plain": [
       "0    7477\n",
       "1    7477\n",
       "Name: default, dtype: int64"
      ]
     },
     "execution_count": 62,
     "metadata": {},
     "output_type": "execute_result"
    }
   ],
   "source": [
    "y_train_sm.value_counts()"
   ]
  },
  {
   "cell_type": "markdown",
   "id": "103ed442",
   "metadata": {},
   "source": [
    "Now the data has equal zeros and ones. This will help us in analysing and predicting the data accurately."
   ]
  },
  {
   "cell_type": "code",
   "execution_count": 23,
   "id": "5d47bc54",
   "metadata": {},
   "outputs": [
    {
     "data": {
      "text/plain": [
       "0    67469\n",
       "1    67469\n",
       "Name: default, dtype: int64"
      ]
     },
     "execution_count": 23,
     "metadata": {},
     "output_type": "execute_result"
    }
   ],
   "source": [
    "y_train_sm.value_counts()"
   ]
  },
  {
   "cell_type": "markdown",
   "id": "642af967",
   "metadata": {},
   "source": [
    "### PCA - FEATURE EXTRACTION"
   ]
  },
  {
   "cell_type": "markdown",
   "id": "ec355c31",
   "metadata": {},
   "source": [
    "Inorder to reduce the dimenionality of the dataset I have used the PCA and Set the explained variance to be 99%"
   ]
  },
  {
   "cell_type": "code",
   "execution_count": 24,
   "id": "db098517",
   "metadata": {},
   "outputs": [],
   "source": [
    "from sklearn.decomposition import PCA\n",
    "pca = PCA(n_components= 0.99)\n",
    "X_train_pca = pca.fit_transform(X_train_sm)\n",
    "X_test_pca = pca.transform(X_test)"
   ]
  },
  {
   "cell_type": "code",
   "execution_count": 25,
   "id": "06d6efae",
   "metadata": {},
   "outputs": [
    {
     "data": {
      "text/plain": [
       "(134938, 24)"
      ]
     },
     "execution_count": 25,
     "metadata": {},
     "output_type": "execute_result"
    }
   ],
   "source": [
    "X_train_pca.shape"
   ]
  },
  {
   "cell_type": "markdown",
   "id": "1b3288ff",
   "metadata": {},
   "source": [
    "K Fold Cross validation:"
   ]
  },
  {
   "cell_type": "code",
   "execution_count": 26,
   "id": "524aa922",
   "metadata": {},
   "outputs": [],
   "source": [
    "from sklearn.model_selection import StratifiedKFold\n",
    "sk =StratifiedKFold(n_splits=2, random_state=None, shuffle=False)"
   ]
  },
  {
   "cell_type": "markdown",
   "id": "9b18c443",
   "metadata": {},
   "source": [
    "### Step 2 - Build your models: "
   ]
  },
  {
   "cell_type": "markdown",
   "id": "72464512",
   "metadata": {},
   "source": [
    "LOGISTIC REGRESSION \n",
    "\n",
    "I have used Grid Search with cross validation for selecting the hyper paramter C "
   ]
  },
  {
   "cell_type": "code",
   "execution_count": 27,
   "id": "f5d97a0f",
   "metadata": {},
   "outputs": [],
   "source": [
    "from sklearn.linear_model import LogisticRegression\n",
    "from sklearn.model_selection import GridSearchCV\n",
    "\n",
    "c_range=[0.001, 0.01, 0.1, 1, 10, 100, 1000]\n",
    "grid = {\"C\": c_range , \"penalty\":[\"l1\",\"l2\"],\"solver\":[\"liblinear\"]}\n",
    "logreg = LogisticRegression(class_weight = 'balanced',max_iter = 10000)\n",
    "logreg_cv = GridSearchCV(logreg,grid,cv= sk, scoring = 'roc_auc')"
   ]
  },
  {
   "cell_type": "markdown",
   "id": "1c2ea41e",
   "metadata": {},
   "source": [
    "Now fit the model with the best parameters with the dimensionally reduced data"
   ]
  },
  {
   "cell_type": "code",
   "execution_count": 28,
   "id": "bdf588e1",
   "metadata": {},
   "outputs": [
    {
     "name": "stdout",
     "output_type": "stream",
     "text": [
      "tuned Hyperparameters :(best parameters)  {'C': 0.1, 'penalty': 'l1', 'solver': 'liblinear'}\n",
      "accuracy : 0.8170674293129092\n"
     ]
    }
   ],
   "source": [
    "logreg_cv.fit(X_train_pca,y_train_sm)\n",
    "\n",
    "print(\"tuned Hyperparameters :(best parameters) \",logreg_cv.best_params_)\n",
    "print(\"accuracy :\",logreg_cv.best_score_)"
   ]
  },
  {
   "cell_type": "markdown",
   "id": "9c5bf21d",
   "metadata": {},
   "source": [
    "Training and Test score "
   ]
  },
  {
   "cell_type": "code",
   "execution_count": 29,
   "id": "cc3ae990",
   "metadata": {},
   "outputs": [
    {
     "name": "stdout",
     "output_type": "stream",
     "text": [
      "Train Score 0.8172286392314867\n",
      "Test Score 0.789157629043593\n"
     ]
    }
   ],
   "source": [
    "train_score = (logreg_cv.score(X_train_pca, y_train_sm))\n",
    "test_score = (logreg_cv.score(X_test_pca, y_test))\n",
    "print('Train Score',train_score)\n",
    "print('Test Score' ,test_score)"
   ]
  },
  {
   "cell_type": "code",
   "execution_count": 30,
   "id": "a0e5be1c",
   "metadata": {},
   "outputs": [
    {
     "name": "stdout",
     "output_type": "stream",
     "text": [
      "roc_auc_score:  0.789157629043593\n"
     ]
    }
   ],
   "source": [
    "from sklearn.metrics import accuracy_score, roc_auc_score\n",
    "y_pred = logreg_cv.predict(X_test_pca)\n",
    "print('roc_auc_score: ', roc_auc_score(y_test, logreg_cv.predict_proba(X_test_pca)[:,1]))"
   ]
  },
  {
   "cell_type": "code",
   "execution_count": 31,
   "id": "c3391097",
   "metadata": {},
   "outputs": [
    {
     "data": {
      "text/plain": [
       "array([1, 0, 0, ..., 0, 0, 0], dtype=int64)"
      ]
     },
     "execution_count": 31,
     "metadata": {},
     "output_type": "execute_result"
    }
   ],
   "source": [
    "y_pred"
   ]
  },
  {
   "cell_type": "code",
   "execution_count": 32,
   "id": "8b27b305",
   "metadata": {},
   "outputs": [
    {
     "name": "stdout",
     "output_type": "stream",
     "text": [
      "Confusion Matrix :\n",
      "[[16240   276]\n",
      " [ 6287   696]]\n"
     ]
    }
   ],
   "source": [
    "from sklearn.metrics import f1_score, confusion_matrix, accuracy_score,f1_score\n",
    "y_pred = logreg_cv.predict(X_test_pca)\n",
    "cm = confusion_matrix(y_pred,y_test)\n",
    "print(\"Confusion Matrix :\\n{}\".format(cm))\n"
   ]
  },
  {
   "cell_type": "markdown",
   "id": "b1b28795",
   "metadata": {},
   "source": [
    "72% of the data is correctly classified "
   ]
  },
  {
   "cell_type": "markdown",
   "id": "fde3898a",
   "metadata": {},
   "source": [
    "### Decision Tree"
   ]
  },
  {
   "cell_type": "code",
   "execution_count": 33,
   "id": "8f25ebfa",
   "metadata": {},
   "outputs": [],
   "source": [
    "from sklearn.svm import SVC\n",
    "from sklearn.model_selection import train_test_split\n",
    "from sklearn.preprocessing import MinMaxScaler\n",
    "from sklearn.tree import DecisionTreeClassifier"
   ]
  },
  {
   "cell_type": "markdown",
   "id": "9936dd1e",
   "metadata": {},
   "source": [
    "Use the naive grid search to select the hyper parameters"
   ]
  },
  {
   "cell_type": "code",
   "execution_count": 34,
   "id": "483f895c",
   "metadata": {},
   "outputs": [
    {
     "name": "stdout",
     "output_type": "stream",
     "text": [
      "Best score: 0.75\n",
      "Best parameters: {'max_depth': 5, 'min_samples': 500, 'min_samples_split': 10}\n"
     ]
    }
   ],
   "source": [
    "from sklearn.svm import SVC\n",
    "from sklearn.model_selection import train_test_split\n",
    "from sklearn.preprocessing import MinMaxScaler\n",
    "from sklearn.tree import DecisionTreeClassifier\n",
    "\n",
    "best_score = 0\n",
    "for max_depth in [1,2,3,4,5]:\n",
    "    for min_samples_leaf in [10,25,50,100,500]:\n",
    "        for  min_samples_split in [10,50,100,150,200]:\n",
    "        # for each combination of parameters, train an SVC\n",
    "           \n",
    "            dtree = DecisionTreeClassifier(max_depth = max_depth, min_samples_leaf = min_samples_leaf, min_samples_split = min_samples_split, random_state=0)\n",
    "            dtree.fit(X_train_pca, y_train_sm)\n",
    "        # evaluate the SVC on the test set\n",
    "            score = dtree.score(X_test_pca, y_test)\n",
    "        # if we got a better score, store the score and parameters\n",
    "            if score > best_score:\n",
    "                best_score = score\n",
    "                best_parameters = {'max_depth': max_depth, 'min_samples': min_samples_leaf,'min_samples_split': min_samples_split}\n",
    "\n",
    "print(\"Best score: {:.2f}\".format(best_score))\n",
    "print(\"Best parameters: {}\".format(best_parameters))"
   ]
  },
  {
   "cell_type": "code",
   "execution_count": 35,
   "id": "b1b83f1c",
   "metadata": {},
   "outputs": [
    {
     "name": "stdout",
     "output_type": "stream",
     "text": [
      "Test_Score: 0.7475211711136645 Train Score 0.7509671108212661\n"
     ]
    }
   ],
   "source": [
    "from sklearn.tree import DecisionTreeClassifier\n",
    "dtree = DecisionTreeClassifier(max_depth = 5,min_samples_leaf = 500,min_samples_split = 10,random_state=0)\n",
    "dtree.fit(X_train_pca, y_train_sm)\n",
    "Test_Score = dtree.score(X_test_pca, y_test)\n",
    "Train_score = dtree.score(X_train_pca, y_train_sm)\n",
    "print('Test_Score:', Test_Score, 'Train Score',Train_score)"
   ]
  },
  {
   "cell_type": "code",
   "execution_count": 36,
   "id": "28da011f",
   "metadata": {},
   "outputs": [
    {
     "name": "stdout",
     "output_type": "stream",
     "text": [
      "roc_auc_score:  0.771511086558955\n"
     ]
    }
   ],
   "source": [
    "from sklearn.metrics import accuracy_score, roc_auc_score\n",
    "y_pred = dtree.predict(X_test_pca)\n",
    "print('roc_auc_score: ', roc_auc_score(y_test, dtree.predict_proba(X_test_pca)[:,1]))"
   ]
  },
  {
   "cell_type": "code",
   "execution_count": 37,
   "id": "93a576cd",
   "metadata": {},
   "outputs": [
    {
     "data": {
      "text/plain": [
       "[Text(165.3075, 199.32, 'X[0] <= -0.125\\ngini = 0.5\\nsamples = 134938\\nvalue = [67469, 67469]'),\n",
       " Text(85.095, 163.07999999999998, 'X[0] <= -0.765\\ngini = 0.379\\nsamples = 65983\\nvalue = [16740, 49243]'),\n",
       " Text(44.64, 126.83999999999999, 'X[0] <= -1.135\\ngini = 0.263\\nsamples = 36125\\nvalue = [5636, 30489]'),\n",
       " Text(22.32, 90.6, 'X[0] <= -1.341\\ngini = 0.173\\nsamples = 18723\\nvalue = [1790, 16933]'),\n",
       " Text(11.16, 54.359999999999985, 'X[19] <= -0.053\\ngini = 0.118\\nsamples = 10236\\nvalue = [647, 9589]'),\n",
       " Text(5.58, 18.119999999999976, 'gini = 0.203\\nsamples = 1702\\nvalue = [195, 1507]'),\n",
       " Text(16.740000000000002, 18.119999999999976, 'gini = 0.1\\nsamples = 8534\\nvalue = [452, 8082]'),\n",
       " Text(33.480000000000004, 54.359999999999985, 'X[22] <= -0.099\\ngini = 0.233\\nsamples = 8487\\nvalue = [1143, 7344]'),\n",
       " Text(27.9, 18.119999999999976, 'gini = 0.389\\nsamples = 587\\nvalue = [155, 432]'),\n",
       " Text(39.06, 18.119999999999976, 'gini = 0.219\\nsamples = 7900\\nvalue = [988, 6912]'),\n",
       " Text(66.96000000000001, 90.6, 'X[2] <= -0.357\\ngini = 0.344\\nsamples = 17402\\nvalue = [3846, 13556]'),\n",
       " Text(55.8, 54.359999999999985, 'X[16] <= -0.063\\ngini = 0.266\\nsamples = 5260\\nvalue = [831, 4429]'),\n",
       " Text(50.22, 18.119999999999976, 'gini = 0.351\\nsamples = 1341\\nvalue = [304, 1037]'),\n",
       " Text(61.38, 18.119999999999976, 'gini = 0.233\\nsamples = 3919\\nvalue = [527, 3392]'),\n",
       " Text(78.12, 54.359999999999985, 'X[16] <= -0.193\\ngini = 0.373\\nsamples = 12142\\nvalue = [3015, 9127]'),\n",
       " Text(72.54, 18.119999999999976, 'gini = 0.477\\nsamples = 1207\\nvalue = [475, 732]'),\n",
       " Text(83.7, 18.119999999999976, 'gini = 0.357\\nsamples = 10935\\nvalue = [2540, 8395]'),\n",
       " Text(125.55, 126.83999999999999, 'X[0] <= -0.521\\ngini = 0.467\\nsamples = 29858\\nvalue = [11104, 18754]'),\n",
       " Text(111.6, 90.6, 'X[16] <= -0.112\\ngini = 0.422\\nsamples = 11680\\nvalue = [3539, 8141]'),\n",
       " Text(100.44, 54.359999999999985, 'X[7] <= -0.084\\ngini = 0.488\\nsamples = 2293\\nvalue = [966, 1327]'),\n",
       " Text(94.86, 18.119999999999976, 'gini = 0.498\\nsamples = 911\\nvalue = [483, 428]'),\n",
       " Text(106.02, 18.119999999999976, 'gini = 0.455\\nsamples = 1382\\nvalue = [483, 899]'),\n",
       " Text(122.76, 54.359999999999985, 'X[15] <= -0.043\\ngini = 0.398\\nsamples = 9387\\nvalue = [2573, 6814]'),\n",
       " Text(117.18, 18.119999999999976, 'gini = 0.453\\nsamples = 3055\\nvalue = [1059, 1996]'),\n",
       " Text(128.34, 18.119999999999976, 'gini = 0.364\\nsamples = 6332\\nvalue = [1514, 4818]'),\n",
       " Text(139.5, 90.6, 'X[1] <= -0.71\\ngini = 0.486\\nsamples = 18178\\nvalue = [7565, 10613]'),\n",
       " Text(133.92000000000002, 54.359999999999985, 'gini = 0.41\\nsamples = 650\\nvalue = [463, 187]'),\n",
       " Text(145.08, 54.359999999999985, 'X[16] <= -0.181\\ngini = 0.482\\nsamples = 17528\\nvalue = [7102, 10426]'),\n",
       " Text(139.5, 18.119999999999976, 'gini = 0.498\\nsamples = 2447\\nvalue = [1301, 1146]'),\n",
       " Text(150.66, 18.119999999999976, 'gini = 0.473\\nsamples = 15081\\nvalue = [5801, 9280]'),\n",
       " Text(245.52, 163.07999999999998, 'X[0] <= 0.425\\ngini = 0.389\\nsamples = 68955\\nvalue = [50729, 18226]'),\n",
       " Text(200.88, 126.83999999999999, 'X[16] <= 0.163\\ngini = 0.474\\nsamples = 23773\\nvalue = [14610, 9163]'),\n",
       " Text(178.56, 90.6, 'X[7] <= 0.459\\ngini = 0.45\\nsamples = 18890\\nvalue = [12424, 6466]'),\n",
       " Text(167.4, 54.359999999999985, 'X[14] <= -0.107\\ngini = 0.44\\nsamples = 17437\\nvalue = [11737, 5700]'),\n",
       " Text(161.82, 18.119999999999976, 'gini = 0.367\\nsamples = 4186\\nvalue = [3173, 1013]'),\n",
       " Text(172.98, 18.119999999999976, 'gini = 0.457\\nsamples = 13251\\nvalue = [8564, 4687]'),\n",
       " Text(189.72, 54.359999999999985, 'X[17] <= -0.095\\ngini = 0.499\\nsamples = 1453\\nvalue = [687, 766]'),\n",
       " Text(184.14000000000001, 18.119999999999976, 'gini = 0.457\\nsamples = 501\\nvalue = [177, 324]'),\n",
       " Text(195.3, 18.119999999999976, 'gini = 0.497\\nsamples = 952\\nvalue = [510, 442]'),\n",
       " Text(223.2, 90.6, 'X[3] <= -0.364\\ngini = 0.495\\nsamples = 4883\\nvalue = [2186, 2697]'),\n",
       " Text(212.04, 54.359999999999985, 'X[2] <= 0.337\\ngini = 0.442\\nsamples = 1658\\nvalue = [546, 1112]'),\n",
       " Text(206.46, 18.119999999999976, 'gini = 0.475\\nsamples = 1099\\nvalue = [426, 673]'),\n",
       " Text(217.62, 18.119999999999976, 'gini = 0.337\\nsamples = 559\\nvalue = [120, 439]'),\n",
       " Text(234.36, 54.359999999999985, 'X[20] <= -0.11\\ngini = 0.5\\nsamples = 3225\\nvalue = [1640, 1585]'),\n",
       " Text(228.78, 18.119999999999976, 'gini = 0.449\\nsamples = 682\\nvalue = [450, 232]'),\n",
       " Text(239.94, 18.119999999999976, 'gini = 0.498\\nsamples = 2543\\nvalue = [1190, 1353]'),\n",
       " Text(290.16, 126.83999999999999, 'X[0] <= 1.757\\ngini = 0.321\\nsamples = 45182\\nvalue = [36119, 9063]'),\n",
       " Text(267.84000000000003, 90.6, 'X[4] <= 0.252\\ngini = 0.345\\nsamples = 38560\\nvalue = [30030, 8530]'),\n",
       " Text(256.68, 54.359999999999985, 'X[13] <= -0.061\\ngini = 0.316\\nsamples = 30076\\nvalue = [24163, 5913]'),\n",
       " Text(251.1, 18.119999999999976, 'gini = 0.234\\nsamples = 10299\\nvalue = [8905, 1394]'),\n",
       " Text(262.26, 18.119999999999976, 'gini = 0.353\\nsamples = 19777\\nvalue = [15258, 4519]'),\n",
       " Text(279.0, 54.359999999999985, 'X[14] <= -0.091\\ngini = 0.427\\nsamples = 8484\\nvalue = [5867, 2617]'),\n",
       " Text(273.42, 18.119999999999976, 'gini = 0.249\\nsamples = 1995\\nvalue = [1704, 291]'),\n",
       " Text(284.58, 18.119999999999976, 'gini = 0.46\\nsamples = 6489\\nvalue = [4163, 2326]'),\n",
       " Text(312.48, 90.6, 'X[1] <= -0.18\\ngini = 0.148\\nsamples = 6622\\nvalue = [6089, 533]'),\n",
       " Text(301.32, 54.359999999999985, 'X[0] <= 1.873\\ngini = 0.077\\nsamples = 3313\\nvalue = [3180, 133]'),\n",
       " Text(295.74, 18.119999999999976, 'gini = 0.182\\nsamples = 832\\nvalue = [748, 84]'),\n",
       " Text(306.9, 18.119999999999976, 'gini = 0.039\\nsamples = 2481\\nvalue = [2432, 49]'),\n",
       " Text(323.64, 54.359999999999985, 'X[8] <= 0.026\\ngini = 0.213\\nsamples = 3309\\nvalue = [2909, 400]'),\n",
       " Text(318.06, 18.119999999999976, 'gini = 0.091\\nsamples = 1532\\nvalue = [1459, 73]'),\n",
       " Text(329.22, 18.119999999999976, 'gini = 0.3\\nsamples = 1777\\nvalue = [1450, 327]')]"
      ]
     },
     "execution_count": 37,
     "metadata": {},
     "output_type": "execute_result"
    },
    {
     "data": {
      "image/png": "[encoded data removed]",
      "text/plain": [
       "<Figure size 432x288 with 1 Axes>"
      ]
     },
     "metadata": {
      "needs_background": "light"
     },
     "output_type": "display_data"
    }
   ],
   "source": [
    "from sklearn import tree\n",
    "tree.plot_tree(dtree)"
   ]
  },
  {
   "cell_type": "code",
   "execution_count": 38,
   "id": "7a459513",
   "metadata": {},
   "outputs": [
    {
     "data": {
      "text/plain": [
       "array([1, 0, 0, ..., 0, 0, 0], dtype=int64)"
      ]
     },
     "execution_count": 38,
     "metadata": {},
     "output_type": "execute_result"
    }
   ],
   "source": [
    "y_pred"
   ]
  },
  {
   "cell_type": "code",
   "execution_count": 39,
   "id": "a555ff82",
   "metadata": {},
   "outputs": [
    {
     "name": "stdout",
     "output_type": "stream",
     "text": [
      "Confusion Matrix :\n",
      "[[16904   310]\n",
      " [ 5623   662]]\n"
     ]
    }
   ],
   "source": [
    "from sklearn.metrics import f1_score, confusion_matrix, accuracy_score,f1_score\n",
    "cm = confusion_matrix(y_pred,y_test)\n",
    "f = accuracy_score(y_pred,y_test)\n",
    "print(\"Confusion Matrix :\\n{}\".format(cm))"
   ]
  },
  {
   "cell_type": "markdown",
   "id": "58767857",
   "metadata": {},
   "source": [
    "Out of 23499,From the data we find that the correctly classified are 71% of the data is correctly classified"
   ]
  },
  {
   "cell_type": "markdown",
   "id": "f12507d8",
   "metadata": {},
   "source": [
    "### VALIDATION DATA "
   ]
  },
  {
   "cell_type": "markdown",
   "id": "9e66c4bf",
   "metadata": {},
   "source": [
    "##### Preprocessing "
   ]
  },
  {
   "cell_type": "code",
   "execution_count": 40,
   "id": "7cfe6fe4",
   "metadata": {},
   "outputs": [],
   "source": [
    "import numpy as np\n",
    "cols = ['A1', 'A2','A3','A4', 'A5','A6','A7', 'A8','A9', 'A10', 'A11','A12','A13', 'A14','A15','A16', 'A17','A18'\n",
    "       ,'A19', 'A20','A21','A22', 'A23','A24','A25', 'A26','A27','A28', 'A29','A30']\n",
    "\n",
    "Q10 = df_val[cols].quantile(0.10)\n",
    "Q90 = df_val[cols].quantile(0.90)\n",
    "\n",
    "df_val[cols] = np.where(df_val[cols] < Q10,Q10,df_val[cols])\n",
    "df_val[cols] = np.where(df_val[cols] > Q90,Q90,df_val[cols])  "
   ]
  },
  {
   "cell_type": "code",
   "execution_count": 41,
   "id": "4ea474fd",
   "metadata": {},
   "outputs": [],
   "source": [
    "df_val.drop('A23', axis = 1, inplace = True)\n",
    "df_val.drop('A24', axis = 1, inplace = True)\n",
    "df_val.drop('A30', axis = 1, inplace = True)"
   ]
  },
  {
   "cell_type": "code",
   "execution_count": 42,
   "id": "b8bcfde2",
   "metadata": {},
   "outputs": [
    {
     "name": "stdout",
     "output_type": "stream",
     "text": [
      "0\n"
     ]
    },
    {
     "data": {
      "text/html": [
       "<div>\n",
       "<style scoped>\n",
       "    .dataframe tbody tr th:only-of-type {\n",
       "        vertical-align: middle;\n",
       "    }\n",
       "\n",
       "    .dataframe tbody tr th {\n",
       "        vertical-align: top;\n",
       "    }\n",
       "\n",
       "    .dataframe thead th {\n",
       "        text-align: right;\n",
       "    }\n",
       "</style>\n",
       "<table border=\"1\" class=\"dataframe\">\n",
       "  <thead>\n",
       "    <tr style=\"text-align: right;\">\n",
       "      <th></th>\n",
       "      <th>A1</th>\n",
       "      <th>A2</th>\n",
       "      <th>A3</th>\n",
       "      <th>A4</th>\n",
       "      <th>A5</th>\n",
       "      <th>A6</th>\n",
       "      <th>A7</th>\n",
       "      <th>A8</th>\n",
       "      <th>A9</th>\n",
       "      <th>A10</th>\n",
       "      <th>...</th>\n",
       "      <th>A19</th>\n",
       "      <th>A20</th>\n",
       "      <th>A21</th>\n",
       "      <th>A22</th>\n",
       "      <th>A25</th>\n",
       "      <th>A26</th>\n",
       "      <th>A27</th>\n",
       "      <th>A28</th>\n",
       "      <th>A29</th>\n",
       "      <th>default</th>\n",
       "    </tr>\n",
       "  </thead>\n",
       "  <tbody>\n",
       "  </tbody>\n",
       "</table>\n",
       "<p>0 rows × 28 columns</p>\n",
       "</div>"
      ],
      "text/plain": [
       "Empty DataFrame\n",
       "Columns: [A1, A2, A3, A4, A5, A6, A7, A8, A9, A10, A11, A12, A13, A14, A15, A16, A17, A18, A19, A20, A21, A22, A25, A26, A27, A28, A29, default]\n",
       "Index: []\n",
       "\n",
       "[0 rows x 28 columns]"
      ]
     },
     "execution_count": 42,
     "metadata": {},
     "output_type": "execute_result"
    }
   ],
   "source": [
    "d = df_val.duplicated()\n",
    "print(d.sum())\n",
    "df_val[d]"
   ]
  },
  {
   "cell_type": "code",
   "execution_count": 43,
   "id": "9b1ef3e6",
   "metadata": {},
   "outputs": [],
   "source": [
    "from sklearn.preprocessing import MinMaxScaler\n",
    "from sklearn.model_selection import train_test_split\n",
    "\n",
    "y = df_val['default']\n",
    "X = df_val.drop('default', axis = 1)\n",
    "\n",
    "X_train_org, X_test_org, y_train, y_test = train_test_split(X, y, random_state = 0)\n",
    "scaler = MinMaxScaler()\n",
    "X_train = scaler.fit_transform(X_train_org)\n",
    "X_test = scaler.transform(X_test_org)"
   ]
  },
  {
   "cell_type": "code",
   "execution_count": 44,
   "id": "3fa09e81",
   "metadata": {},
   "outputs": [
    {
     "data": {
      "text/plain": [
       "(8625, 27)"
      ]
     },
     "execution_count": 44,
     "metadata": {},
     "output_type": "execute_result"
    }
   ],
   "source": [
    "X_train.shape"
   ]
  },
  {
   "cell_type": "code",
   "execution_count": 45,
   "id": "47be3e64",
   "metadata": {},
   "outputs": [],
   "source": [
    "from imblearn.over_sampling import SMOTE \n",
    "\n",
    "def upsample_SMOTE(X_train, y_train, ratio = 1.0):\n",
    "    \n",
    "    sm = SMOTE(random_state=23, sampling_strategy=ratio)\n",
    "    X_train_sm, y_train_sm = sm.fit_resample(X_train, y_train)\n",
    "    return X_train_sm, y_train_sm\n",
    "\n",
    "X_train_sm,y_train_sm = upsample_SMOTE(X_train, y_train, ratio=1.0)"
   ]
  },
  {
   "cell_type": "code",
   "execution_count": 46,
   "id": "9d438021",
   "metadata": {},
   "outputs": [],
   "source": [
    "from sklearn.decomposition import PCA\n",
    "pca = PCA(n_components= 0.99)\n",
    "X_train_pca = pca.fit_transform(X_train_sm)\n",
    "X_test_pca = pca.transform(X_test)"
   ]
  },
  {
   "cell_type": "code",
   "execution_count": 47,
   "id": "d97523fd",
   "metadata": {},
   "outputs": [
    {
     "data": {
      "text/plain": [
       "(14954, 23)"
      ]
     },
     "execution_count": 47,
     "metadata": {},
     "output_type": "execute_result"
    }
   ],
   "source": [
    "X_train_pca.shape"
   ]
  },
  {
   "cell_type": "markdown",
   "id": "f1c97ee7",
   "metadata": {},
   "source": [
    "### Step 3 - Generate predictions:"
   ]
  },
  {
   "cell_type": "markdown",
   "id": "a0902a13",
   "metadata": {},
   "source": [
    "Using the same models to predict the data "
   ]
  },
  {
   "cell_type": "markdown",
   "id": "c327efde",
   "metadata": {},
   "source": [
    "Decision Tree "
   ]
  },
  {
   "cell_type": "code",
   "execution_count": 48,
   "id": "40563ec1",
   "metadata": {},
   "outputs": [
    {
     "data": {
      "text/plain": [
       "DecisionTreeClassifier(max_depth=5, min_samples_leaf=500, min_samples_split=10,\n",
       "                       random_state=0)"
      ]
     },
     "execution_count": 48,
     "metadata": {},
     "output_type": "execute_result"
    }
   ],
   "source": [
    "dtree.fit(X_train_pca, y_train_sm)"
   ]
  },
  {
   "cell_type": "code",
   "execution_count": 49,
   "id": "96f49d51",
   "metadata": {},
   "outputs": [
    {
     "name": "stdout",
     "output_type": "stream",
     "text": [
      "roc_auc_score:  0.7869233731488487\n"
     ]
    }
   ],
   "source": [
    "from sklearn.metrics import accuracy_score, roc_auc_score\n",
    "y_pred = dtree.predict(X_test_pca)\n",
    "print('roc_auc_score: ', roc_auc_score(y_test, dtree.predict_proba(X_test_pca)[:,1]))"
   ]
  },
  {
   "cell_type": "markdown",
   "id": "ff6fa5b2",
   "metadata": {},
   "source": [
    "Logistic Regression "
   ]
  },
  {
   "cell_type": "code",
   "execution_count": 50,
   "id": "961a538e",
   "metadata": {},
   "outputs": [
    {
     "data": {
      "text/plain": [
       "GridSearchCV(cv=StratifiedKFold(n_splits=2, random_state=None, shuffle=False),\n",
       "             estimator=LogisticRegression(class_weight='balanced',\n",
       "                                          max_iter=10000),\n",
       "             param_grid={'C': [0.001, 0.01, 0.1, 1, 10, 100, 1000],\n",
       "                         'penalty': ['l1', 'l2'], 'solver': ['liblinear']},\n",
       "             scoring='roc_auc')"
      ]
     },
     "execution_count": 50,
     "metadata": {},
     "output_type": "execute_result"
    }
   ],
   "source": [
    "logreg_cv.fit(X_train_pca, y_train_sm)"
   ]
  },
  {
   "cell_type": "code",
   "execution_count": 51,
   "id": "ebf5a9a3",
   "metadata": {},
   "outputs": [
    {
     "name": "stdout",
     "output_type": "stream",
     "text": [
      "roc_auc_score:  0.8091231128166324\n"
     ]
    }
   ],
   "source": [
    "from sklearn.metrics import accuracy_score, roc_auc_score\n",
    "y_pred_log = logreg_cv.predict(X_test_pca)\n",
    "print('roc_auc_score: ', roc_auc_score(y_test, logreg_cv.predict_proba(X_test_pca)[:,1]))"
   ]
  },
  {
   "cell_type": "code",
   "execution_count": 52,
   "id": "081e59e3",
   "metadata": {},
   "outputs": [
    {
     "data": {
      "text/plain": [
       "array([1, 0, 0, ..., 0, 0, 1], dtype=int64)"
      ]
     },
     "execution_count": 52,
     "metadata": {},
     "output_type": "execute_result"
    }
   ],
   "source": [
    "y_pred_log"
   ]
  },
  {
   "cell_type": "code",
   "execution_count": 53,
   "id": "5257e67f",
   "metadata": {},
   "outputs": [
    {
     "name": "stdout",
     "output_type": "stream",
     "text": [
      "Confusion Matrix :\n",
      "[[1880   90]\n",
      " [ 643  262]]\n"
     ]
    }
   ],
   "source": [
    "from sklearn.metrics import f1_score, confusion_matrix, accuracy_score,f1_score\n",
    "cm = confusion_matrix(y_pred_log,y_test)\n",
    "print(\"Confusion Matrix :\\n{}\".format(cm))"
   ]
  },
  {
   "cell_type": "markdown",
   "id": "f3b14047",
   "metadata": {},
   "source": [
    "Probabilities of the output being 0 and 1 for decision tree and logistic regression."
   ]
  },
  {
   "cell_type": "code",
   "execution_count": 54,
   "id": "bebccd6e",
   "metadata": {},
   "outputs": [
    {
     "data": {
      "text/plain": [
       "array([[0.50493653, 0.49506347],\n",
       "       [0.88703466, 0.11296534],\n",
       "       [0.88703466, 0.11296534],\n",
       "       ...,\n",
       "       [0.82910695, 0.17089305],\n",
       "       [0.82910695, 0.17089305],\n",
       "       [0.30331126, 0.69668874]])"
      ]
     },
     "execution_count": 54,
     "metadata": {},
     "output_type": "execute_result"
    }
   ],
   "source": [
    "pred = dtree.predict_proba(X_test_pca)\n",
    "pred"
   ]
  },
  {
   "cell_type": "code",
   "execution_count": 55,
   "id": "ea02188b",
   "metadata": {},
   "outputs": [],
   "source": [
    "x = pred[:,1]"
   ]
  },
  {
   "cell_type": "code",
   "execution_count": 56,
   "id": "eb5d9b4d",
   "metadata": {},
   "outputs": [],
   "source": [
    "pred1 = logreg_cv.predict_proba(X_test_pca)"
   ]
  },
  {
   "cell_type": "code",
   "execution_count": 57,
   "id": "96d069e8",
   "metadata": {},
   "outputs": [],
   "source": [
    "y = pred1[:,1]"
   ]
  },
  {
   "cell_type": "code",
   "execution_count": 58,
   "id": "0d00ddb3",
   "metadata": {},
   "outputs": [],
   "source": [
    "output_array = np.array(x)\n",
    "np.savetxt(\"results1.csv\", output_array, delimiter=\",\")"
   ]
  },
  {
   "cell_type": "code",
   "execution_count": 59,
   "id": "98c1a8dd",
   "metadata": {},
   "outputs": [],
   "source": [
    "output_array = np.array(y)\n",
    "np.savetxt(\"results2.csv\", output_array, delimiter=\",\")"
   ]
  }
 ],
 "metadata": {
  "kernelspec": {
   "display_name": "Python 3",
   "language": "python",
   "name": "python3"
  },
  "language_info": {
   "codemirror_mode": {
    "name": "ipython",
    "version": 3
   },
   "file_extension": ".py",
   "mimetype": "text/x-python",
   "name": "python",
   "nbconvert_exporter": "python",
   "pygments_lexer": "ipython3",
   "version": "3.8.8"
  }
 },
 "nbformat": 4,
 "nbformat_minor": 5
}
